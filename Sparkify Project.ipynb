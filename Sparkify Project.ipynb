{
 "cells": [
  {
   "cell_type": "markdown",
   "metadata": {},
   "source": [
    "# Sparkify Project Workspace\n",
    "This workspace contains a tiny subset (128MB) of the full dataset available (12GB). Feel free to use this workspace to build your project, or to explore a smaller subset with Spark before deploying your cluster on the cloud. Instructions for setting up your Spark cluster is included in the last lesson of the Extracurricular Spark Course content.\n",
    "\n",
    "You can follow the steps below to guide your data analysis and model building portion of this project."
   ]
  },
  {
   "cell_type": "code",
   "execution_count": 1,
   "metadata": {},
   "outputs": [],
   "source": [
    "# import libraries  \n",
    "from pyspark.sql import SparkSession\n",
    "from pyspark.sql.functions import avg, col, concat, desc, explode, lit, min, max, split, udf, isnull\n",
    "from pyspark.sql.types import IntegerType\n",
    "\n",
    "from pyspark.ml import Pipeline\n",
    "from pyspark.ml.classification import LogisticRegression, RandomForestClassifier, GBTClassifier, DecisionTreeClassifier, NaiveBayes\n",
    "from pyspark.ml.evaluation import MulticlassClassificationEvaluator\n",
    "from pyspark.ml.evaluation import BinaryClassificationEvaluator\n",
    "from pyspark.ml.feature import CountVectorizer, IDF, Normalizer, PCA, RegexTokenizer, StandardScaler, StopWordsRemover, StringIndexer, VectorAssembler\n",
    "from pyspark.ml.regression import LinearRegression\n",
    "from pyspark.ml.tuning import CrossValidator, ParamGridBuilder\n",
    "\n",
    "import re\n",
    "import datetime\n",
    "import matplotlib.pyplot as plt\n",
    "import pandas as pd\n",
    "import seaborn as sns"
   ]
  },
  {
   "cell_type": "code",
   "execution_count": 2,
   "metadata": {},
   "outputs": [],
   "source": [
    "# create a Spark session\n",
    "\n",
    "spark = SparkSession \\\n",
    "    .builder \\\n",
    "    .appName(\"Sparkify\") \\\n",
    "    .getOrCreate()"
   ]
  },
  {
   "cell_type": "code",
   "execution_count": 3,
   "metadata": {},
   "outputs": [
    {
     "data": {
      "text/plain": [
       "DataFrame[artist: string, auth: string, firstName: string, gender: string, itemInSession: bigint, lastName: string, length: double, level: string, location: string, method: string, page: string, registration: bigint, sessionId: bigint, song: string, status: bigint, ts: bigint, userAgent: string, userId: string]"
      ]
     },
     "execution_count": 3,
     "metadata": {},
     "output_type": "execute_result"
    }
   ],
   "source": [
    "sparkify_data = 'mini_sparkify_event_data.json'\n",
    "df = spark.read.json(sparkify_data)\n",
    "df.persist()"
   ]
  },
  {
   "cell_type": "markdown",
   "metadata": {},
   "source": [
    "# Load and Clean Dataset\n",
    "Clean your dataset, checking for invalid or missing data. For example, records without userids or sessionids. In this workspace, the filename is `mini_sparkify_event_data.json`."
   ]
  },
  {
   "cell_type": "code",
   "execution_count": 4,
   "metadata": {},
   "outputs": [
    {
     "data": {
      "text/plain": [
       "286500"
      ]
     },
     "execution_count": 4,
     "metadata": {},
     "output_type": "execute_result"
    }
   ],
   "source": [
    "# drop the NA value in the columns of \"userID\" and \"sessionID\"\n",
    "df = df.dropna(how = \"any\", subset = [\"userId\", \"sessionId\"])\n",
    "df.count()"
   ]
  },
  {
   "cell_type": "code",
   "execution_count": 5,
   "metadata": {},
   "outputs": [
    {
     "data": {
      "text/plain": [
       "278154"
      ]
     },
     "execution_count": 5,
     "metadata": {},
     "output_type": "execute_result"
    }
   ],
   "source": [
    "# drop the empty value in the columns of \"userID\"\n",
    "\n",
    "df = df[df.userId!=\"\"]\n",
    "df.count()"
   ]
  },
  {
   "cell_type": "code",
   "execution_count": 6,
   "metadata": {},
   "outputs": [
    {
     "name": "stdout",
     "output_type": "stream",
     "text": [
      "+----------------+---------+---------+------+-------------+--------+---------+-----+--------------------+------+--------+-------------+---------+--------------------+------+-------------+--------------------+------+\n",
      "|          artist|     auth|firstName|gender|itemInSession|lastName|   length|level|            location|method|    page| registration|sessionId|                song|status|           ts|           userAgent|userId|\n",
      "+----------------+---------+---------+------+-------------+--------+---------+-----+--------------------+------+--------+-------------+---------+--------------------+------+-------------+--------------------+------+\n",
      "|  Martha Tilston|Logged In|    Colin|     M|           50| Freeman|277.89016| paid|     Bakersfield, CA|   PUT|NextSong|1538173362000|       29|           Rockpools|   200|1538352117000|Mozilla/5.0 (Wind...|    30|\n",
      "|Five Iron Frenzy|Logged In|    Micah|     M|           79|    Long|236.09424| free|Boston-Cambridge-...|   PUT|NextSong|1538331630000|        8|              Canada|   200|1538352180000|\"Mozilla/5.0 (Win...|     9|\n",
      "|    Adam Lambert|Logged In|    Colin|     M|           51| Freeman| 282.8273| paid|     Bakersfield, CA|   PUT|NextSong|1538173362000|       29|   Time For Miracles|   200|1538352394000|Mozilla/5.0 (Wind...|    30|\n",
      "|          Enigma|Logged In|    Micah|     M|           80|    Long|262.71302| free|Boston-Cambridge-...|   PUT|NextSong|1538331630000|        8|Knocking On Forbi...|   200|1538352416000|\"Mozilla/5.0 (Win...|     9|\n",
      "|       Daft Punk|Logged In|    Colin|     M|           52| Freeman|223.60771| paid|     Bakersfield, CA|   PUT|NextSong|1538173362000|       29|Harder Better Fas...|   200|1538352676000|Mozilla/5.0 (Wind...|    30|\n",
      "+----------------+---------+---------+------+-------------+--------+---------+-----+--------------------+------+--------+-------------+---------+--------------------+------+-------------+--------------------+------+\n",
      "only showing top 5 rows\n",
      "\n"
     ]
    }
   ],
   "source": [
    "df.show(5)                 "
   ]
  },
  {
   "cell_type": "markdown",
   "metadata": {},
   "source": [
    "# Exploratory Data Analysis\n",
    "When you're working with the full dataset, perform EDA by loading a small subset of the data and doing basic manipulations within Spark. In this workspace, you are already provided a small subset of data you can explore.\n",
    "\n",
    "### Define Churn\n",
    "\n",
    "Once you've done some preliminary analysis, create a column `Churn` to use as the label for your model. I suggest using the `Cancellation Confirmation` events to define your churn, which happen for both paid and free users. As a bonus task, you can also look into the `Downgrade` events.\n",
    "\n",
    "### Explore Data\n",
    "Once you've defined churn, perform some exploratory data analysis to observe the behavior for users who stayed vs users who churned. You can start by exploring aggregates on these two groups of users, observing how much of a specific action they experienced per a certain time unit or number of songs played."
   ]
  },
  {
   "cell_type": "code",
   "execution_count": 7,
   "metadata": {},
   "outputs": [
    {
     "name": "stdout",
     "output_type": "stream",
     "text": [
      "+--------------------+\n",
      "|                page|\n",
      "+--------------------+\n",
      "|              Cancel|\n",
      "|    Submit Downgrade|\n",
      "|         Thumbs Down|\n",
      "|                Home|\n",
      "|           Downgrade|\n",
      "|         Roll Advert|\n",
      "|              Logout|\n",
      "|       Save Settings|\n",
      "|Cancellation Conf...|\n",
      "|               About|\n",
      "|            Settings|\n",
      "|     Add to Playlist|\n",
      "|          Add Friend|\n",
      "|            NextSong|\n",
      "|           Thumbs Up|\n",
      "|                Help|\n",
      "|             Upgrade|\n",
      "|               Error|\n",
      "|      Submit Upgrade|\n",
      "+--------------------+\n",
      "\n"
     ]
    }
   ],
   "source": [
    "df.select(\"page\").dropDuplicates().show()  "
   ]
  },
  {
   "cell_type": "code",
   "execution_count": 8,
   "metadata": {},
   "outputs": [],
   "source": [
    "churn_user_df = df[df.page==\"Cancellation Confirmation\"].select(\"userId\").dropDuplicates()\n",
    "churn_user_list = [user[\"userId\"] for user in churn_user_df.collect()]"
   ]
  },
  {
   "cell_type": "code",
   "execution_count": 9,
   "metadata": {},
   "outputs": [],
   "source": [
    "df_withchurn = df.withColumn(\"churn\", df.userId.isin(churn_user_list))"
   ]
  },
  {
   "cell_type": "markdown",
   "metadata": {},
   "source": [
    "* Show the state distribution between churn users and normal users"
   ]
  },
  {
   "cell_type": "code",
   "execution_count": 10,
   "metadata": {},
   "outputs": [],
   "source": [
    "# add state to df_withchurn\n",
    "get_loc = udf(lambda x: x[-2:])\n",
    "df_withchurn = df_withchurn.withColumn(\"state\", get_loc(df_withchurn.location))"
   ]
  },
  {
   "cell_type": "code",
   "execution_count": 11,
   "metadata": {},
   "outputs": [
    {
     "name": "stdout",
     "output_type": "stream",
     "text": [
      "+-----+-----+-----+\n",
      "|state|churn|count|\n",
      "+-----+-----+-----+\n",
      "|   WI|false|    9|\n",
      "|   MT|false|    1|\n",
      "|   NY|false|    4|\n",
      "|   NC|false|    7|\n",
      "|   IL|false|    8|\n",
      "|   OK|false|    1|\n",
      "|   MD|false|    4|\n",
      "|   IN|false|    5|\n",
      "|   SC|false|    7|\n",
      "|   VA|false|    3|\n",
      "|   AL|false|    4|\n",
      "|   TX|false|   13|\n",
      "|   UT|false|    1|\n",
      "|   WA|false|    4|\n",
      "|   FL|false|   11|\n",
      "|   LA|false|    1|\n",
      "|   AZ|false|    5|\n",
      "|   NH|false|    7|\n",
      "|   MA|false|    2|\n",
      "|   KS|false|    1|\n",
      "+-----+-----+-----+\n",
      "only showing top 20 rows\n",
      "\n"
     ]
    }
   ],
   "source": [
    "df_withchurn.dropDuplicates(['userId']).groupby(['state','churn']).count().sort(\"churn\").show()"
   ]
  },
  {
   "cell_type": "code",
   "execution_count": 12,
   "metadata": {},
   "outputs": [
    {
     "data": {
      "text/plain": [
       "<matplotlib.axes._subplots.AxesSubplot at 0x7f488b423eb8>"
      ]
     },
     "execution_count": 12,
     "metadata": {},
     "output_type": "execute_result"
    },
    {
     "data": {
      "image/png": "[encoded data removed]",
      "text/plain": [
       "<matplotlib.figure.Figure at 0x7f488aba4940>"
      ]
     },
     "metadata": {
      "needs_background": "light"
     },
     "output_type": "display_data"
    }
   ],
   "source": [
    "# Show the state distribution in churn users\n",
    "df_sta = df_withchurn.dropDuplicates(['userId']).filter(df_withchurn.churn==1).groupby(['state','churn']).count().toPandas()\n",
    "df_sta.plot.bar(\"state\")"
   ]
  },
  {
   "cell_type": "code",
   "execution_count": 13,
   "metadata": {},
   "outputs": [
    {
     "data": {
      "text/plain": [
       "<matplotlib.axes._subplots.AxesSubplot at 0x7f4888a47f60>"
      ]
     },
     "execution_count": 13,
     "metadata": {},
     "output_type": "execute_result"
    },
    {
     "data": {
      "image/png": "[encoded data removed]",
      "text/plain": [
       "<matplotlib.figure.Figure at 0x7f4888a7b780>"
      ]
     },
     "metadata": {
      "needs_background": "light"
     },
     "output_type": "display_data"
    }
   ],
   "source": [
    "# Show the state distribution in normal users  \n",
    "df_sta = df_withchurn.dropDuplicates(['userId']).filter(df_withchurn.churn==0).groupby(['state','churn']).count().toPandas()\n",
    "df_sta.plot.bar(\"state\")"
   ]
  },
  {
   "cell_type": "markdown",
   "metadata": {},
   "source": [
    "* Show the gender distribution between churn users and normal users"
   ]
  },
  {
   "cell_type": "code",
   "execution_count": 14,
   "metadata": {},
   "outputs": [
    {
     "name": "stdout",
     "output_type": "stream",
     "text": [
      "+------+-----+-----+\n",
      "|gender|churn|count|\n",
      "+------+-----+-----+\n",
      "|     M| true|   32|\n",
      "|     F|false|   84|\n",
      "|     F| true|   20|\n",
      "|     M|false|   89|\n",
      "+------+-----+-----+\n",
      "\n"
     ]
    }
   ],
   "source": [
    "df_withchurn.dropDuplicates(['userId']).groupby(['gender','churn']).count().show()"
   ]
  },
  {
   "cell_type": "code",
   "execution_count": 15,
   "metadata": {},
   "outputs": [
    {
     "data": {
      "text/plain": [
       "<matplotlib.axes._subplots.AxesSubplot at 0x7f48889e0278>"
      ]
     },
     "execution_count": 15,
     "metadata": {},
     "output_type": "execute_result"
    },
    {
     "data": {
      "image/png": "[encoded data removed]",
      "text/plain": [
       "<matplotlib.figure.Figure at 0x7f4888976390>"
      ]
     },
     "metadata": {
      "needs_background": "light"
     },
     "output_type": "display_data"
    }
   ],
   "source": [
    "df_gen = df_withchurn.dropDuplicates(['userId']).groupby(['gender','churn']).count().toPandas()\n",
    "sns.barplot(x='churn', y='count', hue='gender', data=df_gen)   "
   ]
  },
  {
   "cell_type": "markdown",
   "metadata": {},
   "source": [
    "* Show the page use distribution between churn users and normal users"
   ]
  },
  {
   "cell_type": "code",
   "execution_count": 16,
   "metadata": {},
   "outputs": [],
   "source": [
    "churn_count = df_withchurn.filter(df_withchurn.churn==1).count()\n",
    "no_churn_count = df_withchurn.filter(df_withchurn.churn==0).count()  \n",
    "\n",
    "df_temp1 = df_withchurn.filter(df_withchurn.churn==1).filter(df_withchurn.page!=\"NextSong\").groupby([\"page\"]).count()\n",
    "df_temp1 = df_temp1.withColumn(\"cFreq\", df_temp1[\"count\"]/(churn_count/100)).sort(\"page\")\n",
    "\n",
    "df_temp2 = df_withchurn.filter(df_withchurn.churn==0).filter(df_withchurn.page!=\"NextSong\").groupby([\"page\"]).count()\n",
    "df_temp2 = df_temp2.withColumn(\"ncFreq\", df_temp2[\"count\"]/(no_churn_count/100)).sort(\"page\")"
   ]
  },
  {
   "cell_type": "code",
   "execution_count": 17,
   "metadata": {},
   "outputs": [
    {
     "name": "stdout",
     "output_type": "stream",
     "text": [
      "+--------------------+-----+--------------------+\n",
      "|                page|count|               cFreq|\n",
      "+--------------------+-----+--------------------+\n",
      "|               About|   56| 0.12482168330955778|\n",
      "|          Add Friend|  636|   1.417617689015692|\n",
      "|     Add to Playlist| 1038|  2.3136590584878745|\n",
      "|              Cancel|   52|  0.1159058487874465|\n",
      "|Cancellation Conf...|   52|  0.1159058487874465|\n",
      "|           Downgrade|  337|  0.7511590584878745|\n",
      "|               Error|   32| 0.07132667617689016|\n",
      "|                Help|  239|  0.5327211126961484|\n",
      "|                Home| 1672|   3.726818830242511|\n",
      "|              Logout|  553|   1.232614122681883|\n",
      "|         Roll Advert|  967|  2.1554029957203995|\n",
      "|       Save Settings|   58|  0.1292796005706134|\n",
      "|            Settings|  270|  0.6018188302425107|\n",
      "|    Submit Downgrade|    9|0.020060627674750357|\n",
      "|      Submit Upgrade|   32| 0.07132667617689016|\n",
      "|         Thumbs Down|  496|  1.1055634807417976|\n",
      "|           Thumbs Up| 1859|   4.143634094151213|\n",
      "|             Upgrade|  112| 0.24964336661911557|\n",
      "+--------------------+-----+--------------------+\n",
      "\n"
     ]
    }
   ],
   "source": [
    "df_temp1.show()"
   ]
  },
  {
   "cell_type": "code",
   "execution_count": 18,
   "metadata": {},
   "outputs": [
    {
     "name": "stdout",
     "output_type": "stream",
     "text": [
      "+----------------+-----+--------------------+\n",
      "|            page|count|              ncFreq|\n",
      "+----------------+-----+--------------------+\n",
      "|           About|  439| 0.18817780444939775|\n",
      "|      Add Friend| 3641|   1.560718419134982|\n",
      "| Add to Playlist| 5488|   2.352436881135068|\n",
      "|       Downgrade| 1718|  0.7364224784602854|\n",
      "|           Error|  220| 0.09430322774229499|\n",
      "|            Help| 1215|  0.5208110077585837|\n",
      "|            Home| 8410|   3.604955205966822|\n",
      "|          Logout| 2673|  1.1457842170688841|\n",
      "|     Roll Advert| 2966|  1.2713789703802134|\n",
      "|   Save Settings|  252|   0.108020060868447|\n",
      "|        Settings| 1244|  0.5332418877791589|\n",
      "|Submit Downgrade|   54|0.023147155900381498|\n",
      "|  Submit Upgrade|  127|0.054438681469415745|\n",
      "|     Thumbs Down| 2050|  0.8787346221441125|\n",
      "|       Thumbs Up|10692|  4.5831368682755365|\n",
      "|         Upgrade|  387| 0.16588795061940073|\n",
      "+----------------+-----+--------------------+\n",
      "\n"
     ]
    }
   ],
   "source": [
    "df_temp2.show()"
   ]
  },
  {
   "cell_type": "code",
   "execution_count": 19,
   "metadata": {},
   "outputs": [
    {
     "data": {
      "text/plain": [
       "<matplotlib.axes._subplots.AxesSubplot at 0x7f48888c65c0>"
      ]
     },
     "execution_count": 19,
     "metadata": {},
     "output_type": "execute_result"
    },
    {
     "data": {
      "image/png": "[encoded data removed]",
      "text/plain": [
       "<matplotlib.figure.Figure at 0x7f48888c6080>"
      ]
     },
     "metadata": {
      "needs_background": "light"
     },
     "output_type": "display_data"
    }
   ],
   "source": [
    "df_pd = df_temp1.join(df_temp2, \"page\", \"outer\").drop(\"count\").fillna(0).toPandas()\n",
    "df_pd.plot.bar(\"page\")"
   ]
  },
  {
   "cell_type": "markdown",
   "metadata": {},
   "source": [
    "* Show the page use distribution  between paid and churn users and free and churn users"
   ]
  },
  {
   "cell_type": "code",
   "execution_count": 20,
   "metadata": {},
   "outputs": [],
   "source": [
    "churn_count_paid = df_withchurn.filter(df_withchurn.churn==1).filter(df_withchurn.level==\"paid\").count()\n",
    "churn_count_free = df_withchurn.filter(df_withchurn.churn==1).filter(df_withchurn.level==\"free\").count()\n",
    "no_churn_count_paid = df_withchurn.filter(df_withchurn.churn==0).filter(df_withchurn.level==\"paid\").count()\n",
    "no_churn_count_free = df_withchurn.filter(df_withchurn.churn==0).filter(df_withchurn.level==\"free\").count()\n",
    "\n",
    "df_temp3 = df_withchurn.filter(df_withchurn.churn==1).filter(df_withchurn.page!=\"NextSong\").filter(df_withchurn.level==\"paid\").groupby([\"page\"]).count()\n",
    "df_temp3 = df_temp3.withColumn(\"cFreq_paid\", df_temp3[\"count\"]/(churn_count_paid/100)).sort(\"page\")\n",
    "\n",
    "df_temp4 = df_withchurn.filter(df_withchurn.churn==1).filter(df_withchurn.page!=\"NextSong\").filter(df_withchurn.level==\"free\").groupby([\"page\"]).count()\n",
    "df_temp4 = df_temp4.withColumn(\"cFreq_free\", df_temp4[\"count\"]/(churn_count_free/100)).sort(\"page\")"
   ]
  },
  {
   "cell_type": "code",
   "execution_count": 21,
   "metadata": {},
   "outputs": [
    {
     "data": {
      "text/plain": [
       "<matplotlib.axes._subplots.AxesSubplot at 0x7f48887e9208>"
      ]
     },
     "execution_count": 21,
     "metadata": {},
     "output_type": "execute_result"
    },
    {
     "data": {
      "image/png": "[encoded data removed]",
      "text/plain": [
       "<matplotlib.figure.Figure at 0x7f4888841ba8>"
      ]
     },
     "metadata": {
      "needs_background": "light"
     },
     "output_type": "display_data"
    }
   ],
   "source": [
    "df_pd = df_temp3.join(df_temp4, \"page\", \"outer\").drop(\"count\").fillna(0).toPandas()\n",
    "df_pd.plot.bar(\"page\")"
   ]
  },
  {
   "cell_type": "markdown",
   "metadata": {},
   "source": [
    "* Show the page use distribution  between paid and normal users and free and normal users"
   ]
  },
  {
   "cell_type": "code",
   "execution_count": 22,
   "metadata": {},
   "outputs": [
    {
     "data": {
      "text/plain": [
       "<matplotlib.axes._subplots.AxesSubplot at 0x7f4888718320>"
      ]
     },
     "execution_count": 22,
     "metadata": {},
     "output_type": "execute_result"
    },
    {
     "data": {
      "image/png": "[encoded data removed]",
      "text/plain": [
       "<matplotlib.figure.Figure at 0x7f4888718e80>"
      ]
     },
     "metadata": {
      "needs_background": "light"
     },
     "output_type": "display_data"
    }
   ],
   "source": [
    "df_temp5 = df_withchurn.filter(df_withchurn.churn==0).filter(df_withchurn.page!=\"NextSong\").filter(df_withchurn.level==\"paid\").groupby([\"page\"]).count()\n",
    "df_temp5 = df_temp5.withColumn(\"cnFreq_paid\", df_temp5[\"count\"]/(churn_count_paid/100)).sort(\"page\")\n",
    "\n",
    "df_temp6 = df_withchurn.filter(df_withchurn.churn==0).filter(df_withchurn.page!=\"NextSong\").filter(df_withchurn.level==\"free\").groupby([\"page\"]).count()\n",
    "df_temp6 = df_temp6.withColumn(\"cnFreq_free\", df_temp6[\"count\"]/(churn_count_free/100)).sort(\"page\")\n",
    "\n",
    "df_pd = df_temp5.join(df_temp6, \"page\", \"outer\").drop(\"count\").fillna(0).toPandas()\n",
    "df_pd.plot.bar(\"page\")"
   ]
  },
  {
   "cell_type": "code",
   "execution_count": null,
   "metadata": {},
   "outputs": [],
   "source": []
  },
  {
   "cell_type": "code",
   "execution_count": null,
   "metadata": {},
   "outputs": [],
   "source": []
  },
  {
   "cell_type": "code",
   "execution_count": null,
   "metadata": {},
   "outputs": [],
   "source": []
  },
  {
   "cell_type": "code",
   "execution_count": null,
   "metadata": {},
   "outputs": [],
   "source": []
  },
  {
   "cell_type": "markdown",
   "metadata": {},
   "source": [
    "# Feature Engineering\n",
    "Once you've familiarized yourself with the data, build out the features you find promising to train your model on. To work with the full dataset, you can follow the following steps.\n",
    "- Write a script to extract the necessary features from the smaller subset of data\n",
    "- Ensure that your script is scalable, using the best practices discussed in Lesson 3\n",
    "- Try your script on the full data set, debugging your script if necessary\n",
    "\n",
    "If you are working in the classroom workspace, you can just extract features based on the small subset of data contained here. Be sure to transfer over this work to the larger dataset when you work on your Spark cluster."
   ]
  },
  {
   "cell_type": "markdown",
   "metadata": {},
   "source": [
    "* The first feature: gender"
   ]
  },
  {
   "cell_type": "code",
   "execution_count": 23,
   "metadata": {},
   "outputs": [],
   "source": [
    "user_gender = df_withchurn.select(\"userId\", \"gender\").dropDuplicates()\n",
    "user_gender = user_gender.replace([\"M\", \"F\"], [\"0\", \"1\"], \"gender\")\n",
    "user_gender = user_gender.select(\"userId\", user_gender.gender.cast(\"int\"))"
   ]
  },
  {
   "cell_type": "code",
   "execution_count": 24,
   "metadata": {
    "scrolled": true
   },
   "outputs": [
    {
     "name": "stdout",
     "output_type": "stream",
     "text": [
      "+------+------+\n",
      "|userId|gender|\n",
      "+------+------+\n",
      "|    10|     0|\n",
      "|   100|     0|\n",
      "|100001|     1|\n",
      "|100002|     1|\n",
      "|100003|     1|\n",
      "+------+------+\n",
      "only showing top 5 rows\n",
      "\n"
     ]
    }
   ],
   "source": [
    "user_gender.sort(\"userId\").show(5)"
   ]
  },
  {
   "cell_type": "markdown",
   "metadata": {},
   "source": [
    "* The second feature: number of songs played"
   ]
  },
  {
   "cell_type": "code",
   "execution_count": 25,
   "metadata": {},
   "outputs": [
    {
     "name": "stdout",
     "output_type": "stream",
     "text": [
      "+------+----------+\n",
      "|userId|NumofSongs|\n",
      "+------+----------+\n",
      "|    10|       673|\n",
      "|   100|      2682|\n",
      "|100001|       133|\n",
      "|100002|       195|\n",
      "|100003|        51|\n",
      "+------+----------+\n",
      "only showing top 5 rows\n",
      "\n"
     ]
    }
   ],
   "source": [
    "user_NumofSongs = df_withchurn.filter(df_withchurn.page==\"NextSong\").dropDuplicates().groupby(\"userId\").count()\n",
    "user_NumofSongs = user_NumofSongs.withColumnRenamed(\"count\", \"NumofSongs\").sort('userId')\n",
    "user_NumofSongs.show(5)"
   ]
  },
  {
   "cell_type": "markdown",
   "metadata": {},
   "source": [
    "* The third feature: number of per songs played"
   ]
  },
  {
   "cell_type": "code",
   "execution_count": 26,
   "metadata": {},
   "outputs": [
    {
     "name": "stdout",
     "output_type": "stream",
     "text": [
      "+------+------------------+\n",
      "|userId|     NumofSongsAvg|\n",
      "+------+------------------+\n",
      "|    10|1.0699523052464228|\n",
      "|   100|1.1650738488271069|\n",
      "|100001|1.0310077519379846|\n",
      "|100002|1.0103626943005182|\n",
      "|100003|               1.0|\n",
      "+------+------------------+\n",
      "only showing top 5 rows\n",
      "\n"
     ]
    }
   ],
   "source": [
    "user_NumofSongsTmp = df_withchurn.filter(df_withchurn.page==\"NextSong\").dropDuplicates().groupby(\"userId\",'song').count()\n",
    "user_NumofSongsAvg = user_NumofSongsTmp.groupby(\"userId\").agg(avg(user_NumofSongsTmp[\"count\"]).alias(\"NumofSongsAvg\")).sort('userId')\n",
    "user_NumofSongsAvg.show(5)"
   ]
  },
  {
   "cell_type": "markdown",
   "metadata": {},
   "source": [
    "* The fourth feature: number of days since registration"
   ]
  },
  {
   "cell_type": "code",
   "execution_count": 27,
   "metadata": {},
   "outputs": [],
   "source": [
    "user_max_ts = df_withchurn.groupby(\"userId\").max(\"ts\").sort(\"userId\")\n",
    "user_reg_ts = df_withchurn.select(\"userId\", \"registration\").dropDuplicates().sort(\"userId\")\n",
    "user_reg_days = user_reg_ts.join(user_max_ts, user_reg_ts.userId == user_max_ts.userId).select(user_reg_ts[\"userId\"], ((user_max_ts[\"max(ts)\"]-user_reg_ts[\"registration\"])/(1000*60*60*24)).alias(\"regDay\"))"
   ]
  },
  {
   "cell_type": "code",
   "execution_count": 28,
   "metadata": {},
   "outputs": [
    {
     "name": "stdout",
     "output_type": "stream",
     "text": [
      "+------+------------------+\n",
      "|userId|            regDay|\n",
      "+------+------------------+\n",
      "|    10| 51.76265046296297|\n",
      "|   100| 64.87377314814815|\n",
      "|100001| 44.80021990740741|\n",
      "|100002|160.47207175925925|\n",
      "|100003|22.748113425925926|\n",
      "+------+------------------+\n",
      "only showing top 5 rows\n",
      "\n"
     ]
    }
   ],
   "source": [
    "user_reg_days.show(5)"
   ]
  },
  {
   "cell_type": "markdown",
   "metadata": {},
   "source": [
    "* The fifth feature: number of singers listened"
   ]
  },
  {
   "cell_type": "code",
   "execution_count": 29,
   "metadata": {},
   "outputs": [],
   "source": [
    "user_NumofSingers = df_withchurn.filter(df_withchurn.page==\"NextSong\").select(\"userId\", \"artist\").dropDuplicates().groupby(\"userId\").count()\n",
    "user_NumofSingers = user_NumofSingers.withColumnRenamed(\"count\", \"NumofSingers\").sort('userId')"
   ]
  },
  {
   "cell_type": "code",
   "execution_count": 30,
   "metadata": {},
   "outputs": [
    {
     "name": "stdout",
     "output_type": "stream",
     "text": [
      "+------+------------+\n",
      "|userId|NumofSingers|\n",
      "+------+------------+\n",
      "|    10|         565|\n",
      "|   100|        1705|\n",
      "|100001|         125|\n",
      "|100002|         184|\n",
      "|100003|          50|\n",
      "+------+------------+\n",
      "only showing top 5 rows\n",
      "\n"
     ]
    }
   ],
   "source": [
    "user_NumofSingers.show(5)"
   ]
  },
  {
   "cell_type": "markdown",
   "metadata": {},
   "source": [
    "* The sixth feature: if the user is a churn user"
   ]
  },
  {
   "cell_type": "code",
   "execution_count": 31,
   "metadata": {},
   "outputs": [],
   "source": [
    "user_IsChurn = df_withchurn.select(\"userId\", \"churn\").dropDuplicates()\n",
    "user_IsChurn = user_IsChurn.select(\"userId\", user_IsChurn.churn.cast(\"int\")).sort('userId')"
   ]
  },
  {
   "cell_type": "code",
   "execution_count": 32,
   "metadata": {},
   "outputs": [
    {
     "name": "stdout",
     "output_type": "stream",
     "text": [
      "+------+-----+\n",
      "|userId|churn|\n",
      "+------+-----+\n",
      "|    10|    0|\n",
      "|   100|    0|\n",
      "|100001|    1|\n",
      "|100002|    0|\n",
      "|100003|    1|\n",
      "+------+-----+\n",
      "only showing top 5 rows\n",
      "\n"
     ]
    }
   ],
   "source": [
    "user_IsChurn.show(5)"
   ]
  },
  {
   "cell_type": "markdown",
   "metadata": {},
   "source": [
    "* The seventh feature: if the user is a paid user"
   ]
  },
  {
   "cell_type": "code",
   "execution_count": 33,
   "metadata": {},
   "outputs": [],
   "source": [
    "user_paid = df_withchurn.groupby(\"userId\", \"level\").agg(max(df_withchurn.ts).alias(\"finalTime\")).sort(\"userId\")\n",
    "user_recent_level_time = user_paid.groupby(\"userId\").agg(max(user_paid.finalTime).alias(\"recent\"))\n",
    "user_recent_level = user_recent_level_time.join(user_paid, [user_paid.userId == user_recent_level_time.userId, user_recent_level_time.recent == user_paid.finalTime]).select(user_paid.userId, \"level\").sort(\"userId\")\n",
    "user_recent_level = user_recent_level.replace([\"free\", \"paid\"], [\"0\", \"1\"], \"level\")\n",
    "user_recent_level = user_recent_level.select(\"userId\", user_recent_level.level.cast(\"int\"))"
   ]
  },
  {
   "cell_type": "code",
   "execution_count": 34,
   "metadata": {},
   "outputs": [
    {
     "name": "stdout",
     "output_type": "stream",
     "text": [
      "+------+-----+\n",
      "|userId|level|\n",
      "+------+-----+\n",
      "|    10|    1|\n",
      "|   100|    1|\n",
      "|100001|    0|\n",
      "|100002|    1|\n",
      "|100003|    0|\n",
      "+------+-----+\n",
      "only showing top 5 rows\n",
      "\n"
     ]
    }
   ],
   "source": [
    "user_recent_level.show(5)"
   ]
  },
  {
   "cell_type": "markdown",
   "metadata": {},
   "source": [
    "* The eighth feature: the state of user is CA"
   ]
  },
  {
   "cell_type": "code",
   "execution_count": 35,
   "metadata": {},
   "outputs": [],
   "source": [
    "user_CA = df_withchurn[df_withchurn.state==\"CA\"].select(\"userId\").dropDuplicates()\n",
    "user_CA_list = [user[\"userId\"] for user in user_CA.collect()]\n",
    "df_withchurn = df_withchurn.withColumn(\"IsCA\", df_withchurn.userId.isin(user_CA_list))"
   ]
  },
  {
   "cell_type": "code",
   "execution_count": 36,
   "metadata": {},
   "outputs": [
    {
     "name": "stdout",
     "output_type": "stream",
     "text": [
      "+------+----+\n",
      "|userId|IsCA|\n",
      "+------+----+\n",
      "|    10|   0|\n",
      "|   100|   0|\n",
      "|100001|   0|\n",
      "|100002|   1|\n",
      "|100003|   0|\n",
      "+------+----+\n",
      "only showing top 5 rows\n",
      "\n"
     ]
    }
   ],
   "source": [
    "user_IsCA = df_withchurn.select(\"userId\", \"IsCA\").dropDuplicates()\n",
    "user_IsCA = user_IsCA.select(\"userId\", user_IsCA.IsCA.cast(\"int\")).sort('userId')\n",
    "user_IsCA.show(5)"
   ]
  },
  {
   "cell_type": "code",
   "execution_count": null,
   "metadata": {},
   "outputs": [],
   "source": []
  },
  {
   "cell_type": "markdown",
   "metadata": {},
   "source": [
    "* put all features together"
   ]
  },
  {
   "cell_type": "code",
   "execution_count": 37,
   "metadata": {},
   "outputs": [],
   "source": [
    "df_user = df_withchurn.select(\"userId\").dropDuplicates().sort('userId')"
   ]
  },
  {
   "cell_type": "code",
   "execution_count": 38,
   "metadata": {},
   "outputs": [],
   "source": [
    "for feature in [user_gender, user_NumofSongs,user_NumofSongsAvg,user_reg_days,user_NumofSingers,user_recent_level,user_IsCA,user_IsChurn]:\n",
    "    df_user = df_user.join(feature,'userId')"
   ]
  },
  {
   "cell_type": "code",
   "execution_count": 39,
   "metadata": {},
   "outputs": [
    {
     "name": "stdout",
     "output_type": "stream",
     "text": [
      "+------+------+----------+------------------+------------------+------------+-----+----+-----+\n",
      "|userId|gender|NumofSongs|     NumofSongsAvg|            regDay|NumofSingers|level|IsCA|churn|\n",
      "+------+------+----------+------------------+------------------+------------+-----+----+-----+\n",
      "|100010|     1|       275|1.0223048327137547| 55.64365740740741|         252|    0|   0|    0|\n",
      "|200002|     0|       387|1.0238095238095237| 70.07462962962963|         339|    1|   0|    0|\n",
      "|   125|     0|         8|               1.0| 71.31688657407408|           8|    0|   0|    1|\n",
      "|   124|     1|      4079| 1.221623240491165|131.55591435185184|        2232|    1|   0|    0|\n",
      "|    51|     0|      2111|1.1386192017259977|19.455844907407407|        1385|    1|   0|    1|\n",
      "|     7|     0|       150|1.0135135135135136| 72.77818287037037|         142|    0|   0|    0|\n",
      "|    15|     0|      1914|1.1212653778558874|56.513576388888886|        1302|    1|   0|    0|\n",
      "|    54|     1|      2841|1.1768848384424193|110.75168981481481|        1744|    1|   0|    1|\n",
      "|   155|     1|       820| 1.080368906455863|23.556018518518517|         643|    1|   0|    0|\n",
      "|100014|     0|       257|1.0362903225806452| 85.08340277777778|         233|    1|   0|    1|\n",
      "|   132|     1|      1928|1.1222351571594877|  66.8891087962963|        1299|    1|   0|    0|\n",
      "|   154|     1|        84|1.0120481927710843|23.872037037037035|          78|    0|   0|    0|\n",
      "|   101|     0|      1797| 1.117537313432836|        53.9659375|        1241|    1|   0|    1|\n",
      "|    11|     1|       647|1.0503246753246753|124.47825231481481|         534|    1|   0|    0|\n",
      "|   138|     0|      2070|1.1557788944723617| 66.62668981481481|        1332|    1|   0|    0|\n",
      "|300017|     1|      3632|1.2054430799867242| 74.35851851851852|        2070|    1|   0|    0|\n",
      "|100021|     0|       230|1.0176991150442478| 64.73886574074074|         207|    0|   0|    1|\n",
      "|    29|     0|      3028|1.1818891491022638|60.104050925925925|        1804|    1|   1|    1|\n",
      "|    69|     1|      1125| 1.085907335907336| 71.42444444444445|         865|    1|   0|    0|\n",
      "|   112|     0|       215| 1.018957345971564| 87.46262731481481|         195|    0|   0|    0|\n",
      "+------+------+----------+------------------+------------------+------------+-----+----+-----+\n",
      "only showing top 20 rows\n",
      "\n"
     ]
    }
   ],
   "source": [
    "df_user.show()"
   ]
  },
  {
   "cell_type": "code",
   "execution_count": null,
   "metadata": {},
   "outputs": [],
   "source": []
  },
  {
   "cell_type": "code",
   "execution_count": null,
   "metadata": {},
   "outputs": [],
   "source": []
  },
  {
   "cell_type": "code",
   "execution_count": null,
   "metadata": {},
   "outputs": [],
   "source": []
  },
  {
   "cell_type": "code",
   "execution_count": null,
   "metadata": {},
   "outputs": [],
   "source": [
    "    "
   ]
  },
  {
   "cell_type": "markdown",
   "metadata": {},
   "source": [
    "# Modeling\n",
    "Split the full dataset into train, test, and validation sets. Test out several of the machine learning methods you learned. Evaluate the accuracy of the various models, tuning parameters as necessary. Determine your winning model based on test accuracy and report results on the validation set. Since the churned users are a fairly small subset, I suggest using F1 score as the metric to optimize."
   ]
  },
  {
   "cell_type": "code",
   "execution_count": 40,
   "metadata": {},
   "outputs": [
    {
     "name": "stdout",
     "output_type": "stream",
     "text": [
      "+-----+-----+\n",
      "|churn|count|\n",
      "+-----+-----+\n",
      "|    1|   52|\n",
      "|    0|  173|\n",
      "+-----+-----+\n",
      "\n"
     ]
    }
   ],
   "source": [
    "df_user.groupby(\"churn\").count().show()"
   ]
  },
  {
   "cell_type": "code",
   "execution_count": 41,
   "metadata": {},
   "outputs": [
    {
     "data": {
      "text/plain": [
       "[('userId', 'string'),\n",
       " ('gender', 'int'),\n",
       " ('NumofSongs', 'bigint'),\n",
       " ('NumofSongsAvg', 'double'),\n",
       " ('regDay', 'double'),\n",
       " ('NumofSingers', 'bigint'),\n",
       " ('level', 'int'),\n",
       " ('IsCA', 'int'),\n",
       " ('churn', 'int')]"
      ]
     },
     "execution_count": 41,
     "metadata": {},
     "output_type": "execute_result"
    }
   ],
   "source": [
    "df_user.dtypes"
   ]
  },
  {
   "cell_type": "code",
   "execution_count": 42,
   "metadata": {},
   "outputs": [],
   "source": [
    "# convert data type of columns into float\n",
    "for feature in df_user.columns[1:]:\n",
    "    df_user = df_user.withColumn(feature,df_user[feature].cast('float'))"
   ]
  },
  {
   "cell_type": "code",
   "execution_count": 43,
   "metadata": {},
   "outputs": [
    {
     "data": {
      "text/plain": [
       "[('userId', 'string'),\n",
       " ('gender', 'float'),\n",
       " ('NumofSongs', 'float'),\n",
       " ('NumofSongsAvg', 'float'),\n",
       " ('regDay', 'float'),\n",
       " ('NumofSingers', 'float'),\n",
       " ('level', 'float'),\n",
       " ('IsCA', 'float'),\n",
       " ('churn', 'float')]"
      ]
     },
     "execution_count": 43,
     "metadata": {},
     "output_type": "execute_result"
    }
   ],
   "source": [
    "df_user.dtypes"
   ]
  },
  {
   "cell_type": "code",
   "execution_count": 44,
   "metadata": {},
   "outputs": [
    {
     "name": "stdout",
     "output_type": "stream",
     "text": [
      "+------+------+----------+-------------+---------+------------+-----+----+-----+\n",
      "|userId|gender|NumofSongs|NumofSongsAvg|   regDay|NumofSingers|level|IsCA|churn|\n",
      "+------+------+----------+-------------+---------+------------+-----+----+-----+\n",
      "|100010|   1.0|     275.0|    1.0223048|55.643658|       252.0|  0.0| 0.0|  0.0|\n",
      "|200002|   0.0|     387.0|    1.0238096| 70.07463|       339.0|  1.0| 0.0|  0.0|\n",
      "|   125|   0.0|       8.0|          1.0| 71.31689|         8.0|  0.0| 0.0|  1.0|\n",
      "|   124|   1.0|    4079.0|    1.2216232|131.55591|      2232.0|  1.0| 0.0|  0.0|\n",
      "|    51|   0.0|    2111.0|    1.1386192|19.455845|      1385.0|  1.0| 0.0|  1.0|\n",
      "+------+------+----------+-------------+---------+------------+-----+----+-----+\n",
      "only showing top 5 rows\n",
      "\n"
     ]
    }
   ],
   "source": [
    "df_user.show(5)"
   ]
  },
  {
   "cell_type": "markdown",
   "metadata": {},
   "source": [
    "* firstly try to build pipeline for logistic regression model"
   ]
  },
  {
   "cell_type": "code",
   "execution_count": 46,
   "metadata": {},
   "outputs": [],
   "source": [
    "# split the dataset into training and test dataset\n",
    "train, test = df_user.randomSplit([0.9, 0.1], seed=10)\n",
    "\n",
    "assembler = VectorAssembler(inputCols=df_user.columns[1:-1],outputCol='featuresassemble')\n",
    "scaler = StandardScaler(inputCol=\"featuresassemble\", outputCol=\"features\", withStd=True)\n",
    "indexer = StringIndexer(inputCol=\"churn\", outputCol=\"label\")\n",
    "\n",
    "lr =  LogisticRegression(maxIter=10, regParam=0.0, elasticNetParam=0)"
   ]
  },
  {
   "cell_type": "code",
   "execution_count": 47,
   "metadata": {},
   "outputs": [],
   "source": [
    "pipeline_lr = Pipeline(stages=[assembler, scaler, indexer, lr])\n",
    "\n",
    "paramGrid_lr = ParamGridBuilder() \\\n",
    "    .addGrid(lr.regParam,[0.0, 0.1, 0.01]) \\\n",
    "    .build()\n",
    "\n",
    "\n",
    "crossval_lr = CrossValidator(estimator=pipeline_lr,\n",
    "                          estimatorParamMaps=paramGrid_lr,\n",
    "                          evaluator=BinaryClassificationEvaluator(),\n",
    "                          numFolds=3)"
   ]
  },
  {
   "cell_type": "code",
   "execution_count": 48,
   "metadata": {},
   "outputs": [
    {
     "data": {
      "text/plain": [
       "[0.7494434755034086, 0.7495449500554936, 0.7494085936261293]"
      ]
     },
     "execution_count": 48,
     "metadata": {},
     "output_type": "execute_result"
    }
   ],
   "source": [
    "cvModel_lr = crossval_lr.fit(train)   \n",
    "cvModel_lr.avgMetrics"
   ]
  },
  {
   "cell_type": "code",
   "execution_count": 63,
   "metadata": {},
   "outputs": [],
   "source": [
    "results = cvModel_lr.transform(test)"
   ]
  },
  {
   "cell_type": "code",
   "execution_count": 64,
   "metadata": {},
   "outputs": [
    {
     "name": "stdout",
     "output_type": "stream",
     "text": [
      "17\n",
      "21\n"
     ]
    }
   ],
   "source": [
    "# test dataset accuracy score \n",
    "print(results.filter(results.label == results.prediction).count())\n",
    "print(results.count())"
   ]
  },
  {
   "cell_type": "code",
   "execution_count": 65,
   "metadata": {},
   "outputs": [
    {
     "name": "stdout",
     "output_type": "stream",
     "text": [
      "accuracy score on the test data： 0.8095238095238095\n"
     ]
    }
   ],
   "source": [
    "print(\"accuracy score on the test data：\",17/21)"
   ]
  },
  {
   "cell_type": "code",
   "execution_count": null,
   "metadata": {},
   "outputs": [],
   "source": []
  },
  {
   "cell_type": "markdown",
   "metadata": {},
   "source": [
    "* secondly try to build pipeline for random forest model"
   ]
  },
  {
   "cell_type": "code",
   "execution_count": 59,
   "metadata": {},
   "outputs": [],
   "source": [
    "stringIndexer = StringIndexer(inputCol=\"label\", outputCol=\"indexed\")\n",
    "rf = RandomForestClassifier(numTrees=3, maxDepth=2, labelCol=\"indexed\", seed=42)\n",
    "\n",
    "pipeline_rf = Pipeline(stages=[assembler, scaler, indexer, stringIndexer, rf])\n",
    "\n",
    "paramGrid_rf = ParamGridBuilder() \\\n",
    "    .addGrid(rf.numTrees,[10, 30]) \\\n",
    "    .build()\n",
    "\n",
    "\n",
    "crossval_rf = CrossValidator(estimator=pipeline_rf,\n",
    "                          estimatorParamMaps=paramGrid_rf,\n",
    "                          evaluator=BinaryClassificationEvaluator(),\n",
    "                          numFolds=3)"
   ]
  },
  {
   "cell_type": "code",
   "execution_count": 60,
   "metadata": {},
   "outputs": [
    {
     "data": {
      "text/plain": [
       "[0.7550272184345436, 0.7573822736641828]"
      ]
     },
     "execution_count": 60,
     "metadata": {},
     "output_type": "execute_result"
    }
   ],
   "source": [
    "cvModel_rf = crossval_rf.fit(train)\n",
    "cvModel_rf.avgMetrics"
   ]
  },
  {
   "cell_type": "code",
   "execution_count": 66,
   "metadata": {},
   "outputs": [
    {
     "name": "stdout",
     "output_type": "stream",
     "text": [
      "17\n",
      "21\n"
     ]
    }
   ],
   "source": [
    "results_rf = cvModel_rf.transform(test)\n",
    "# test dataset accuracy score \n",
    "print(results_rf.filter(results_tf.label == results_rf.prediction).count())\n",
    "print(results_rf.count())"
   ]
  },
  {
   "cell_type": "code",
   "execution_count": 67,
   "metadata": {},
   "outputs": [
    {
     "name": "stdout",
     "output_type": "stream",
     "text": [
      "accuracy score on the test data： 0.8095238095238095\n"
     ]
    }
   ],
   "source": [
    "print(\"accuracy score on the test data：\",17/21)"
   ]
  },
  {
   "cell_type": "markdown",
   "metadata": {},
   "source": [
    "# Final Steps\n",
    "Clean up your code, adding comments and renaming variables to make the code easier to read and maintain. Refer to the Spark Project Overview page and Data Scientist Capstone Project Rubric to make sure you are including all components of the capstone project and meet all expectations. Remember, this includes thorough documentation in a README file in a Github repository, as well as a web app or blog post."
   ]
  },
  {
   "cell_type": "code",
   "execution_count": null,
   "metadata": {},
   "outputs": [],
   "source": []
  }
 ],
 "metadata": {
  "kernelspec": {
   "display_name": "Python 3",
   "language": "python",
   "name": "python3"
  }
 },
 "nbformat": 4,
 "nbformat_minor": 2
}
